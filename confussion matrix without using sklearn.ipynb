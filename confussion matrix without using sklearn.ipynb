import numpy as np
actual=[1,0,0,1,0,1,1,1,0,0]
predicted=[1,0,0,1,1,1,1,0,0,1]
tp=tn=fp=fn=0
for i in range (0,len(actual)):
  if(actual[i]==predicted[i] and actual[i]==1):
    tp=tp+1
  if(actual[i]==predicted[i] and actual[i]==0):
    tn=tn+1
  if(actual[i]!=predicted[i] and actual[i]==1):
    fn=fn+1
  if(actual[i]!=predicted[i] and actual[i]==0):
    fp=fp+1 
ar=np.array([[tp,fp],[tn,fn]])
precison=tp/(fp+tp)
recall=tp/(tp+fn)
fscore=(2*precison*recall)/(precison+recall)
accuracy=(tp+tn)/(tp+tn+fp+fn)
print(ar)
print("Precison=",precison)
print("Recall= ",recall)
print("F1score= ",fscore)
print("Accuracy= ",accuracy)     
